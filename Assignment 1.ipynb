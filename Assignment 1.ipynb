{
 "cells": [
  {
   "cell_type": "markdown",
   "id": "8f0d4b21",
   "metadata": {},
   "source": [
    "# Q. 1. In the below elements which of them are values or an expression? eg:- values can be integer or string and expressions will be mathematical operators"
   ]
  },
  {
   "cell_type": "raw",
   "id": "e91217e6",
   "metadata": {},
   "source": [
    "(*) # This is an expressions "
   ]
  },
  {
   "cell_type": "code",
   "execution_count": 3,
   "id": "87e16fb8",
   "metadata": {},
   "outputs": [
    {
     "data": {
      "text/plain": [
       "10"
      ]
     },
     "execution_count": 3,
     "metadata": {},
     "output_type": "execute_result"
    }
   ],
   "source": [
    "5*2"
   ]
  },
  {
   "cell_type": "code",
   "execution_count": 4,
   "id": "98ea6da0",
   "metadata": {},
   "outputs": [
    {
     "data": {
      "text/plain": [
       "str"
      ]
     },
     "execution_count": 4,
     "metadata": {},
     "output_type": "execute_result"
    }
   ],
   "source": [
    "a =('hello') # This is an values \n",
    "type(a)"
   ]
  },
  {
   "cell_type": "code",
   "execution_count": 5,
   "id": "9e06671d",
   "metadata": {},
   "outputs": [
    {
     "data": {
      "text/plain": [
       "float"
      ]
     },
     "execution_count": 5,
     "metadata": {},
     "output_type": "execute_result"
    }
   ],
   "source": [
    "a = -87.8  # This is an values\n",
    "type(a)"
   ]
  },
  {
   "cell_type": "raw",
   "id": "2c1f0941",
   "metadata": {},
   "source": [
    "(-)  # This is an expressions "
   ]
  },
  {
   "cell_type": "code",
   "execution_count": 6,
   "id": "526bcf8f",
   "metadata": {},
   "outputs": [
    {
     "data": {
      "text/plain": [
       "3"
      ]
     },
     "execution_count": 6,
     "metadata": {},
     "output_type": "execute_result"
    }
   ],
   "source": [
    "5-2"
   ]
  },
  {
   "cell_type": "raw",
   "id": "a3713f40",
   "metadata": {},
   "source": [
    "(/)  # This is an expressions"
   ]
  },
  {
   "cell_type": "code",
   "execution_count": 7,
   "id": "88175a80",
   "metadata": {},
   "outputs": [
    {
     "data": {
      "text/plain": [
       "5.0"
      ]
     },
     "execution_count": 7,
     "metadata": {},
     "output_type": "execute_result"
    }
   ],
   "source": [
    "10/2"
   ]
  },
  {
   "cell_type": "raw",
   "id": "4c38e256",
   "metadata": {},
   "source": [
    "(+) This is an expressions "
   ]
  },
  {
   "cell_type": "code",
   "execution_count": 8,
   "id": "e57431ee",
   "metadata": {},
   "outputs": [
    {
     "data": {
      "text/plain": [
       "7"
      ]
     },
     "execution_count": 8,
     "metadata": {},
     "output_type": "execute_result"
    }
   ],
   "source": [
    "5+2"
   ]
  },
  {
   "cell_type": "code",
   "execution_count": 9,
   "id": "0740d35a",
   "metadata": {},
   "outputs": [
    {
     "data": {
      "text/plain": [
       "int"
      ]
     },
     "execution_count": 9,
     "metadata": {},
     "output_type": "execute_result"
    }
   ],
   "source": [
    "a = 6 # This is values\n",
    "type(a)"
   ]
  },
  {
   "cell_type": "markdown",
   "id": "0f83b042",
   "metadata": {},
   "source": [
    "# Q 2. What is the difference between string and variable?"
   ]
  },
  {
   "cell_type": "raw",
   "id": "ef9f067c",
   "metadata": {},
   "source": [
    "Variables are symbols that We can use to store data in a program. We can think of them as an empty box that We fill with some data or value. Strings are data, so we can use them to fill up a variable. Declaring strings as variables can make it easier for us to work with strings throughout our Python programs."
   ]
  },
  {
   "cell_type": "code",
   "execution_count": 10,
   "id": "a2d31b15",
   "metadata": {},
   "outputs": [],
   "source": [
    "A = \"Parinav\"\n",
    "\n",
    "# Here 'A' is variable and \"Parinav\" is string"
   ]
  },
  {
   "cell_type": "code",
   "execution_count": 11,
   "id": "54e2d829",
   "metadata": {},
   "outputs": [
    {
     "data": {
      "text/plain": [
       "'Parinav'"
      ]
     },
     "execution_count": 11,
     "metadata": {},
     "output_type": "execute_result"
    }
   ],
   "source": [
    "A"
   ]
  },
  {
   "cell_type": "markdown",
   "id": "57ddb6b6",
   "metadata": {},
   "source": [
    "# Q 3. Describe three different data types."
   ]
  },
  {
   "cell_type": "code",
   "execution_count": 12,
   "id": "90ceb91f",
   "metadata": {},
   "outputs": [
    {
     "data": {
      "text/plain": [
       "int"
      ]
     },
     "execution_count": 12,
     "metadata": {},
     "output_type": "execute_result"
    }
   ],
   "source": [
    "# Integer\n",
    "A = 1234\n",
    "type(a)"
   ]
  },
  {
   "cell_type": "code",
   "execution_count": 13,
   "id": "a083e86d",
   "metadata": {},
   "outputs": [
    {
     "data": {
      "text/plain": [
       "float"
      ]
     },
     "execution_count": 13,
     "metadata": {},
     "output_type": "execute_result"
    }
   ],
   "source": [
    "# Floats \n",
    "a = 5.6\n",
    "type(a)"
   ]
  },
  {
   "cell_type": "code",
   "execution_count": 14,
   "id": "b57cf9b2",
   "metadata": {},
   "outputs": [
    {
     "data": {
      "text/plain": [
       "bool"
      ]
     },
     "execution_count": 14,
     "metadata": {},
     "output_type": "execute_result"
    }
   ],
   "source": [
    "# Booleans \n",
    "a = True or False\n",
    "type(a)"
   ]
  },
  {
   "cell_type": "markdown",
   "id": "32fd908c",
   "metadata": {},
   "source": [
    "# Q 4. What is an expression made up of? What do all expressions do?"
   ]
  },
  {
   "cell_type": "raw",
   "id": "aa5df80d",
   "metadata": {},
   "source": [
    "An expression is a combination of operators and operands that is interpreted to produce some other value. \n",
    "an expression is evaluated as per the precedence of its operators."
   ]
  },
  {
   "cell_type": "raw",
   "id": "d8705dd7",
   "metadata": {},
   "source": [
    "An expression evaluates to a single value. A statement does not"
   ]
  },
  {
   "cell_type": "markdown",
   "id": "2a784c73",
   "metadata": {},
   "source": [
    "# Q 6. After running the following code, what does the variable bacon contain?"
   ]
  },
  {
   "cell_type": "code",
   "execution_count": 15,
   "id": "79782316",
   "metadata": {},
   "outputs": [],
   "source": [
    "bacon = 22"
   ]
  },
  {
   "cell_type": "code",
   "execution_count": 16,
   "id": "99b1f9c7",
   "metadata": {},
   "outputs": [
    {
     "data": {
      "text/plain": [
       "23"
      ]
     },
     "execution_count": 16,
     "metadata": {},
     "output_type": "execute_result"
    }
   ],
   "source": [
    "bacon + 1  #  The variable bacon contain the value 22."
   ]
  },
  {
   "cell_type": "markdown",
   "id": "83bd059f",
   "metadata": {},
   "source": [
    "# Q 7. What should the values of the following two terms be?"
   ]
  },
  {
   "cell_type": "code",
   "execution_count": 17,
   "id": "3eb97d88",
   "metadata": {},
   "outputs": [
    {
     "data": {
      "text/plain": [
       "'spamspamspam'"
      ]
     },
     "execution_count": 17,
     "metadata": {},
     "output_type": "execute_result"
    }
   ],
   "source": [
    "'spam' + 'spamspam'"
   ]
  },
  {
   "cell_type": "code",
   "execution_count": 18,
   "id": "ab443bea",
   "metadata": {},
   "outputs": [
    {
     "data": {
      "text/plain": [
       "'spamspamspam'"
      ]
     },
     "execution_count": 18,
     "metadata": {},
     "output_type": "execute_result"
    }
   ],
   "source": [
    "'spam' * 3"
   ]
  },
  {
   "cell_type": "markdown",
   "id": "a667f946",
   "metadata": {},
   "source": [
    "# Q 8. Why is eggs a valid variable name while 100 is invalid?"
   ]
  },
  {
   "cell_type": "code",
   "execution_count": 19,
   "id": "46e538dc",
   "metadata": {},
   "outputs": [],
   "source": [
    "eggs = 125"
   ]
  },
  {
   "cell_type": "code",
   "execution_count": 20,
   "id": "53b11800",
   "metadata": {},
   "outputs": [
    {
     "ename": "SyntaxError",
     "evalue": "cannot assign to literal (Temp/ipykernel_18276/2052014314.py, line 1)",
     "output_type": "error",
     "traceback": [
      "\u001b[1;36m  File \u001b[1;32m\"C:\\Users\\hp\\AppData\\Local\\Temp/ipykernel_18276/2052014314.py\"\u001b[1;36m, line \u001b[1;32m1\u001b[0m\n\u001b[1;33m    100 = 256, \"parinav\"\u001b[0m\n\u001b[1;37m    ^\u001b[0m\n\u001b[1;31mSyntaxError\u001b[0m\u001b[1;31m:\u001b[0m cannot assign to literal\n"
     ]
    }
   ],
   "source": [
    "100 = 256, \"parinav\""
   ]
  },
  {
   "cell_type": "raw",
   "id": "99d5937d",
   "metadata": {},
   "source": [
    "The eggs is a valid variable but 100 is invalid because variable names cannot begin with a number"
   ]
  },
  {
   "cell_type": "markdown",
   "id": "a2781ba5",
   "metadata": {},
   "source": [
    "# Q 9. What three functions can be used to get the integer, floating-point number, or string version of a value?"
   ]
  },
  {
   "cell_type": "raw",
   "id": "7783a8f1",
   "metadata": {},
   "source": [
    "For intger we use int() to get value\n",
    "For floating-point number we use float() to get value\n",
    "For string version of value we use str() to get value"
   ]
  },
  {
   "cell_type": "code",
   "execution_count": 21,
   "id": "64da9040",
   "metadata": {},
   "outputs": [
    {
     "data": {
      "text/plain": [
       "''"
      ]
     },
     "execution_count": 21,
     "metadata": {},
     "output_type": "execute_result"
    }
   ],
   "source": [
    "int()\n",
    "float()\n",
    "str()"
   ]
  },
  {
   "cell_type": "markdown",
   "id": "35c0c1d6",
   "metadata": {},
   "source": [
    "# Q 10. Why does this expression cause an error? How can you fix it?"
   ]
  },
  {
   "cell_type": "code",
   "execution_count": 22,
   "id": "3a84c439",
   "metadata": {},
   "outputs": [
    {
     "ename": "TypeError",
     "evalue": "can only concatenate str (not \"int\") to str",
     "output_type": "error",
     "traceback": [
      "\u001b[1;31m---------------------------------------------------------------------------\u001b[0m",
      "\u001b[1;31mTypeError\u001b[0m                                 Traceback (most recent call last)",
      "\u001b[1;32m~\\AppData\\Local\\Temp/ipykernel_18276/1774935878.py\u001b[0m in \u001b[0;36m<module>\u001b[1;34m\u001b[0m\n\u001b[1;32m----> 1\u001b[1;33m \u001b[1;34m'I have eaten '\u001b[0m \u001b[1;33m+\u001b[0m \u001b[1;36m99\u001b[0m \u001b[1;33m+\u001b[0m \u001b[1;34m' burritos.'\u001b[0m\u001b[1;33m\u001b[0m\u001b[1;33m\u001b[0m\u001b[0m\n\u001b[0m",
      "\u001b[1;31mTypeError\u001b[0m: can only concatenate str (not \"int\") to str"
     ]
    }
   ],
   "source": [
    "'I have eaten ' + 99 + ' burritos.'"
   ]
  },
  {
   "cell_type": "raw",
   "id": "50b6709a",
   "metadata": {},
   "source": [
    "The expression causes an error because 99 is an integer, and only strings can be concatenated to other strings with the + operator."
   ]
  },
  {
   "cell_type": "code",
   "execution_count": 23,
   "id": "4b933a38",
   "metadata": {},
   "outputs": [
    {
     "data": {
      "text/plain": [
       "'I have eaten 99 burritos.'"
      ]
     },
     "execution_count": 23,
     "metadata": {},
     "output_type": "execute_result"
    }
   ],
   "source": [
    "'I have eaten ' + str(99) + ' burritos.' # This is the right way to add "
   ]
  },
  {
   "cell_type": "code",
   "execution_count": null,
   "id": "1f1179cc",
   "metadata": {},
   "outputs": [],
   "source": []
  }
 ],
 "metadata": {
  "kernelspec": {
   "display_name": "Python 3 (ipykernel)",
   "language": "python",
   "name": "python3"
  },
  "language_info": {
   "codemirror_mode": {
    "name": "ipython",
    "version": 3
   },
   "file_extension": ".py",
   "mimetype": "text/x-python",
   "name": "python",
   "nbconvert_exporter": "python",
   "pygments_lexer": "ipython3",
   "version": "3.9.7"
  }
 },
 "nbformat": 4,
 "nbformat_minor": 5
}
